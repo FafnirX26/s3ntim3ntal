{
  "nbformat": 4,
  "nbformat_minor": 0,
  "metadata": {
    "colab": {
      "provenance": []
    },
    "kernelspec": {
      "name": "python3",
      "display_name": "Python 3"
    },
    "language_info": {
      "name": "python"
    }
  },
  "cells": [
    {
      "cell_type": "code",
      "execution_count": null,
      "metadata": {
        "colab": {
          "base_uri": "https://localhost:8080/"
        },
        "id": "h0cPn6w0Apsw",
        "outputId": "6faccd11-bf6e-4aa3-f9b5-dd1faedd6341"
      },
      "outputs": [
        {
          "output_type": "stream",
          "name": "stdout",
          "text": [
            "Looking in indexes: https://pypi.org/simple, https://us-python.pkg.dev/colab-wheels/public/simple/\n",
            "Collecting fasttext\n",
            "  Downloading fasttext-0.9.2.tar.gz (68 kB)\n",
            "\u001b[2K     \u001b[90m━━━━━━━━━━━━━━━━━━━━━━━━━━━━━━━━━━━━━━━━\u001b[0m \u001b[32m68.8/68.8 kB\u001b[0m \u001b[31m2.5 MB/s\u001b[0m eta \u001b[36m0:00:00\u001b[0m\n",
            "\u001b[?25h  Preparing metadata (setup.py) ... \u001b[?25l\u001b[?25hdone\n",
            "Collecting pybind11>=2.2 (from fasttext)\n",
            "  Using cached pybind11-2.10.4-py3-none-any.whl (222 kB)\n",
            "Requirement already satisfied: setuptools>=0.7.0 in /usr/local/lib/python3.10/dist-packages (from fasttext) (67.7.2)\n",
            "Requirement already satisfied: numpy in /usr/local/lib/python3.10/dist-packages (from fasttext) (1.22.4)\n",
            "Building wheels for collected packages: fasttext\n",
            "  Building wheel for fasttext (setup.py) ... \u001b[?25l\u001b[?25hdone\n",
            "  Created wheel for fasttext: filename=fasttext-0.9.2-cp310-cp310-linux_x86_64.whl size=4393201 sha256=8d06c24e381e81daf768f9ec99a3e59aa69638193e3366b36d58ffd0d766eb93\n",
            "  Stored in directory: /root/.cache/pip/wheels/a5/13/75/f811c84a8ab36eedbaef977a6a58a98990e8e0f1967f98f394\n",
            "Successfully built fasttext\n",
            "Installing collected packages: pybind11, fasttext\n",
            "Successfully installed fasttext-0.9.2 pybind11-2.10.4\n"
          ]
        }
      ],
      "source": [
        "!pip install fasttext"
      ]
    },
    {
      "cell_type": "markdown",
      "source": [
        "Installing the fasttext library to allow us to create and train a model off the datasets."
      ],
      "metadata": {
        "id": "-AkhQWkuBIPn"
      }
    },
    {
      "cell_type": "code",
      "source": [
        "# Read the training dataset file\n",
        "with open('/content/training/train.ft.txt', 'r') as file:\n",
        "    train_data = file.readlines()\n",
        "\n",
        "# Preprocess and write the training data in fastText format\n",
        "with open('/content/training/preprocessed_train.txt', 'w') as file:\n",
        "    for line in train_data:\n",
        "        label, text = line.strip().split(' ', 1)\n",
        "        if label == '__label__1':\n",
        "            label = '__label__negative'\n",
        "        elif label == '__label__2':\n",
        "            label = '__label__positive'\n",
        "        file.write(f'{label} {text}\\n')\n",
        "\n",
        "# Read the test dataset file\n",
        "with open('/content/testing/test.ft.txt', 'r') as file:\n",
        "    test_data = file.readlines()\n",
        "\n",
        "# Preprocess and write the test data in fastText format\n",
        "with open('/content/testing/preprocessed_test.txt', 'w') as file:\n",
        "    for line in test_data:\n",
        "        label, text = line.strip().split(' ', 1)\n",
        "        if label == '__label__1':\n",
        "            label = '__label__negative'\n",
        "        elif label == '__label__2':\n",
        "            label = '__label__positive'\n",
        "        file.write(f'{label} {text}\\n')"
      ],
      "metadata": {
        "id": "ZaPx0EsIBaQI"
      },
      "execution_count": null,
      "outputs": []
    },
    {
      "cell_type": "markdown",
      "source": [
        "We write a little bit of code to preprocess the text in located in both the training and testing files and save them to our own files for use with fasttext module."
      ],
      "metadata": {
        "id": "tFvpHGiZDdvK"
      }
    },
    {
      "cell_type": "code",
      "source": [
        "import fasttext\n",
        "\n",
        "# Training the model\n",
        "model = fasttext.train_supervised(input='/content/training/preprocessed_train.txt')\n",
        "\n",
        "# Saving the trained model\n",
        "model.save_model('/content/training/model_amzn.bin')"
      ],
      "metadata": {
        "id": "2OWoxG-bDnPq"
      },
      "execution_count": null,
      "outputs": []
    },
    {
      "cell_type": "markdown",
      "source": [
        "In this code, we import fasttext and use it to \n",
        "*   train the model using what we saved at 'content/training/preprocessed_train.txt'\n",
        "*   save the model into our training folder for use in the next step\n",
        "\n",
        "\n"
      ],
      "metadata": {
        "id": "gezNpdb1EyzH"
      }
    },
    {
      "cell_type": "code",
      "source": [
        "# Loading the trained model\n",
        "model = fasttext.load_model('/content/training/model_amzn.bin')\n",
        "\n",
        "# Testing the model\n",
        "result = model.test('/content/testing/preprocessed_test.txt')\n",
        "precision = result[1]\n",
        "recall = result[2]\n",
        "print(f'Precision: {precision}')\n",
        "print(f'Recall: {recall}')"
      ],
      "metadata": {
        "colab": {
          "base_uri": "https://localhost:8080/"
        },
        "id": "XzBNwGaNFP-_",
        "outputId": "67b406b9-125b-4fbc-c209-5c511cdb7382"
      },
      "execution_count": 9,
      "outputs": [
        {
          "metadata": {
            "tags": null
          },
          "name": "stdout",
          "output_type": "stream",
          "text": [
            "Precision: 0.9002553537229412\n",
            "Recall: 0.9002553537229412\n"
          ]
        },
        {
          "metadata": {
            "tags": null
          },
          "name": "stderr",
          "output_type": "stream",
          "text": [
            "Warning : `load_model` does not return WordVectorModel or SupervisedModel any more, but a `FastText` object which is very similar.\n"
          ]
        }
      ]
    },
    {
      "cell_type": "markdown",
      "source": [
        "As you can see, we have loaded and tested our model with test data, and we scored a bit higher than 90%, and our model is very consistent in determining positive reviews because the recall and precision are the same."
      ],
      "metadata": {
        "id": "pFK3Ej05HJcm"
      }
    },
    {
      "cell_type": "markdown",
      "source": [
        "For the next part of my submission, I will submit a simple python program where the user can communicate with the model directly."
      ],
      "metadata": {
        "id": "HqvdEfA8HxdV"
      }
    }
  ]
}